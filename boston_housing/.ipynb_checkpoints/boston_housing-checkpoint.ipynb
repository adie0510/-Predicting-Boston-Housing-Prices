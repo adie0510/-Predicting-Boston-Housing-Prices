{
 "cells": [
  {
   "cell_type": "markdown",
   "metadata": {},
   "source": [
    "# Machine Learning Engineer Nanodegree\n",
    "## Model Evaluation & Validation\n",
    "## Project: Predicting Boston Housing Prices"
   ]
  },
  {
   "cell_type": "markdown",
   "metadata": {},
   "source": [
    "## Getting Started\n",
    "In this project, you will evaluate the performance and predictive power of a model that has been trained and tested on data collected from homes in suburbs of Boston, Massachusetts. A model trained on this data that is seen as a *good fit* could then be used to make certain predictions about a home — in particular, its monetary value. This model would prove to be invaluable for someone like a real estate agent who could make use of such information on a daily basis.\n",
    "\n",
    "The dataset for this project originates from the [UCI Machine Learning Repository](https://archive.ics.uci.edu/ml/datasets/Housing). The Boston housing data was collected in 1978 and each of the 506 entries represent aggregated data about 14 features for homes from various suburbs in Boston, Massachusetts. For the purposes of this project, the following preprocessing steps have been made to the dataset:\n",
    "- 16 data points have an `'MEDV'` value of 50.0. These data points likely contain **missing or censored values** and have been removed.\n",
    "- 1 data point has an `'RM'` value of 8.78. This data point can be considered an **outlier** and has been removed.\n",
    "- The features `'RM'`, `'LSTAT'`, `'PTRATIO'`, and `'MEDV'` are essential. The remaining **non-relevant features** have been excluded.\n",
    "- The feature `'MEDV'` has been **multiplicatively scaled** to account for 35 years of market inflation.\n",
    "\n",
    "Run the code cell below to load the Boston housing dataset, along with a few of the necessary Python libraries required for this project. You will know the dataset loaded successfully if the size of the dataset is reported."
   ]
  },
  {
   "cell_type": "code",
   "execution_count": 21,
   "metadata": {},
   "outputs": [
    {
     "name": "stdout",
     "output_type": "stream",
     "text": [
      "Boston housing dataset has 489 data points with 4 variables each.\n"
     ]
    }
   ],
   "source": [
    "# Import libraries necessary for this project\n",
    "import numpy as np\n",
    "import pandas as pd\n",
    "from sklearn.cross_validation import ShuffleSplit\n",
    "\n",
    "# Import supplementary visualizations code visuals.py\n",
    "import visuals as vs\n",
    "\n",
    "# Pretty display for notebooks\n",
    "%matplotlib inline\n",
    "\n",
    "# Load the Boston housing dataset\n",
    "data = pd.read_csv('housing.csv')\n",
    "prices = data['MEDV']\n",
    "features = data.drop('MEDV', axis = 1)\n",
    "# Success\n",
    "print(\"Boston housing dataset has {} data points with {} variables each.\".format(*data.shape))\n"
   ]
  },
  {
   "cell_type": "markdown",
   "metadata": {},
   "source": [
    "## Data Exploration\n",
    "In this first section of this project, you will make a cursory investigation about the Boston housing data and provide your observations. Familiarizing yourself with the data through an explorative process is a fundamental practice to help you better understand and justify your results.\n",
    "\n",
    "Since the main goal of this project is to construct a working model which has the capability of predicting the value of houses, we will need to separate the dataset into **features** and the **target variable**. The **features**, `'RM'`, `'LSTAT'`, and `'PTRATIO'`, give us quantitative information about each data point. The **target variable**, `'MEDV'`, will be the variable we seek to predict. These are stored in `features` and `prices`, respectively."
   ]
  },
  {
   "cell_type": "markdown",
   "metadata": {},
   "source": [
    "### Implementation: Calculate Statistics\n",
    "For your very first coding implementation, you will calculate descriptive statistics about the Boston housing prices. Since `numpy` has already been imported for you, use this library to perform the necessary calculations. These statistics will be extremely important later on to analyze various prediction results from the constructed model.\n",
    "\n",
    "In the code cell below, you will need to implement the following:\n",
    "- Calculate the minimum, maximum, mean, median, and standard deviation of `'MEDV'`, which is stored in `prices`.\n",
    "  - Store each calculation in their respective variable."
   ]
  },
  {
   "cell_type": "code",
   "execution_count": 22,
   "metadata": {},
   "outputs": [
    {
     "name": "stdout",
     "output_type": "stream",
     "text": [
      "Statistics for Boston housing dataset:\n",
      "\n",
      "Minimum price: $105,000.00\n",
      "Maximum price: $1,024,800.00\n",
      "Mean price: $454,342.94\n",
      "Median price $438,900.00\n",
      "Standard deviation of prices: $165,340.28\n"
     ]
    }
   ],
   "source": [
    "# TODO: Minimum price of the data\n",
    "minimum_price = np.min(prices)\n",
    "\n",
    "# TODO: Maximum price of the data\n",
    "maximum_price = np.max(prices)\n",
    "\n",
    "# TODO: Mean price of the data\n",
    "mean_price = np.mean(prices)\n",
    "\n",
    "# TODO: Median price of the data\n",
    "median_price = np.median(prices)\n",
    "\n",
    "# TODO: Standard deviation of prices of the data\n",
    "std_price = np.std(prices,ddof = 1)\n",
    "\n",
    "# Show the calculated statistics\n",
    "print(\"Statistics for Boston housing dataset:\\n\")\n",
    "print(\"Minimum price: ${:,.2f}\".format(minimum_price))\n",
    "print(\"Maximum price: ${:,.2f}\".format(maximum_price))\n",
    "print(\"Mean price: ${:,.2f}\".format(mean_price))\n",
    "print(\"Median price ${:,.2f}\".format(median_price))\n",
    "print(\"Standard deviation of prices: ${:,.2f}\".format(std_price))"
   ]
  },
  {
   "cell_type": "markdown",
   "metadata": {},
   "source": [
    "### Question 1 - Feature Observation\n",
    "As a reminder, we are using three features from the Boston housing dataset: `'RM'`, `'LSTAT'`, and `'PTRATIO'`. For each data point (neighborhood):\n",
    "- `'RM'` is the average number of rooms among homes in the neighborhood.\n",
    "- `'LSTAT'` is the percentage of homeowners in the neighborhood considered \"lower class\" (working poor).\n",
    "- `'PTRATIO'` is the ratio of students to teachers in primary and secondary schools in the neighborhood.\n",
    "\n",
    "\n",
    "** Using your intuition, for each of the three features above, do you think that an increase in the value of that feature would lead to an **increase** in the value of `'MEDV'` or a **decrease** in the value of `'MEDV'`? Justify your answer for each.**\n",
    "\n"
   ]
  },
  {
   "cell_type": "markdown",
   "metadata": {},
   "source": [
    "**Answer: **\n",
    "\n",
    "**1.**In case of 'RM' values(number of rooms) and 'MEDV' ,There should be ***increase*** in 'MEDV' if 'RM' value ***increase*** and vice-versa considering all rooms for different  homes nearly equal because As 'RM' increases,it costs much to build the homes.\n",
    "\n",
    "**2.**In case of 'LSTAT',There should be ***decrease*** in 'MDEV' if 'LSTAT' value ***increase*** because the demand for such society in which 'LSTAT' is high will be less  compare to society with low 'LSTAT' value.So,Due to demand,price of home with low 'LSTAT' value will be high compare to price of home with high 'LSTAT' value  will be low.  \n",
    "\n",
    "**3.**In case of 'PTRATIO' values as well,There should be ***decrease*** in 'MDEV' if 'PTRATIO' value ***increase*** because\n",
    "people will consider best if 'PTRATIO' value will be low.So,It will increase the demand of home with low 'PTRATIO' values.\n",
    "Market will start paying more for it.So,price for such home will be high in comparision with home with high 'PTRATIO' values. "
   ]
  },
  {
   "cell_type": "markdown",
   "metadata": {},
   "source": [
    "----\n",
    "\n",
    "## Developing a Model\n",
    "In this second section of the project, you will develop the tools and techniques necessary for a model to make a prediction. Being able to make accurate evaluations of each model's performance through the use of these tools and techniques helps to greatly reinforce the confidence in your predictions."
   ]
  },
  {
   "cell_type": "markdown",
   "metadata": {},
   "source": [
    "### Implementation: Define a Performance Metric\n",
    "It is difficult to measure the quality of a given model without quantifying its performance over training and testing. This is typically done using some type of performance metric, whether it is through calculating some type of error, the goodness of fit, or some other useful measurement. For this project, you will be calculating the [*coefficient of determination*](http://stattrek.com/statistics/dictionary.aspx?definition=coefficient_of_determination), R<sup>2</sup>, to quantify your model's performance. The coefficient of determination for a model is a useful statistic in regression analysis, as it often describes how \"good\" that model is at making predictions. \n",
    "\n",
    "The values for R<sup>2</sup> range from 0 to 1, which captures the percentage of squared correlation between the predicted and actual values of the **target variable**. A model with an R<sup>2</sup> of 0 is no better than a model that always predicts the *mean* of the target variable, whereas a model with an R<sup>2</sup> of 1 perfectly predicts the target variable. Any value between 0 and 1 indicates what percentage of the target variable, using this model, can be explained by the **features**. _A model can be given a negative R<sup>2</sup> as well, which indicates that the model is **arbitrarily worse** than one that always predicts the mean of the target variable._\n",
    "\n",
    "For the `performance_metric` function in the code cell below, you will need to implement the following:\n",
    "- Use `r2_score` from `sklearn.metrics` to perform a performance calculation between `y_true` and `y_predict`.\n",
    "- Assign the performance score to the `score` variable."
   ]
  },
  {
   "cell_type": "code",
   "execution_count": 23,
   "metadata": {
    "collapsed": true
   },
   "outputs": [],
   "source": [
    "# TODO: Import 'r2_score'\n",
    "from sklearn.metrics import r2_score\n",
    "\n",
    "def performance_metric(y_true, y_predict):\n",
    "    \"\"\" Calculates and returns the performance score between \n",
    "        true and predicted values based on the metric chosen. \"\"\"\n",
    "    \n",
    "    # TODO: Calculate the performance score between 'y_true' and 'y_predict'\n",
    "    score = r2_score(y_true,y_predict)\n",
    "    \n",
    "    # Return the score\n",
    "    return score"
   ]
  },
  {
   "cell_type": "markdown",
   "metadata": {},
   "source": [
    "### Question 2 - Goodness of Fit\n",
    "Assume that a dataset contains five data points and a model made the following predictions for the target variable:\n",
    "\n",
    "| True Value | Prediction |\n",
    "| :-------------: | :--------: |\n",
    "| 3.0 | 2.5 |\n",
    "| -0.5 | 0.0 |\n",
    "| 2.0 | 2.1 |\n",
    "| 7.0 | 7.8 |\n",
    "| 4.2 | 5.3 |\n",
    "\n",
    "Run the code cell below to use the `performance_metric` function and calculate this model's coefficient of determination."
   ]
  },
  {
   "cell_type": "code",
   "execution_count": 24,
   "metadata": {},
   "outputs": [
    {
     "name": "stdout",
     "output_type": "stream",
     "text": [
      "Model has a coefficient of determination, R^2, of 0.923.\n"
     ]
    }
   ],
   "source": [
    "# Calculate the performance of this model\n",
    "score = performance_metric([3, -0.5, 2, 7, 4.2], [2.5, 0.0, 2.1, 7.8, 5.3])\n",
    "print(\"Model has a coefficient of determination, R^2, of {:.3f}.\".format(score))"
   ]
  },
  {
   "cell_type": "markdown",
   "metadata": {},
   "source": [
    "* Would you consider this model to have successfully captured the variation of the target variable? \n",
    "* Why or why not?"
   ]
  },
  {
   "cell_type": "markdown",
   "metadata": {},
   "source": [
    "**Answer:** Coefficient of determination(R^2) is the proportion which tell about,to which extent dependent variable can be predicted from independent variable.\n",
    "\n",
    "    R^2 is  the ratio of the explained variance  to the total variance.\n",
    "    \n",
    "       where  1.explained variance is  variance of the model's predictions\n",
    "              2.total variance is sample variance of the dependent variable\n",
    "\n",
    "            R^2 lies between 0 and 1.\n",
    "           \n",
    "           1.R^2 value 0 means that dependent variable can't be predicted from independent\n",
    "             variable.\n",
    "           2.R^2 value 1 means that dependent variable perfectly predicted from independent\n",
    "             variable but it generally can't consider good.It shows auto correlation among \n",
    "             Training dataset.\n",
    "           3.R^2 value between 0 and 1 shows that how much dependent variable can be predicted\n",
    "             from independent variable.\n",
    "           \n",
    "\n",
    "Generally R^2 values range from 0.4 to 0.6 is consider  good for Linear Regression or muliple regression but if we want best prediction then till 0.9,it is good.As R^2 increases from 0.9 then it will be due to the auto correlation among different values of dataset.This causes overfiting in model design.In overfitting,model works very well for Training dataset but very poor for Testing or some new dataset and that is not great situation.So,For most of the model,we consider data values should be  independent of each other.\n",
    "\n",
    "So,It is possible that this model wouldn't have successfully captured the variation of the target variable and won't make good prediction for new data points.we can remove the situation by excluding the correlated data point."
   ]
  },
  {
   "cell_type": "markdown",
   "metadata": {},
   "source": [
    "### Implementation: Shuffle and Split Data\n",
    "Your next implementation requires that you take the Boston housing dataset and split the data into training and testing subsets. Typically, the data is also shuffled into a random order when creating the training and testing subsets to remove any bias in the ordering of the dataset."
   ]
  },
  {
   "cell_type": "code",
   "execution_count": 25,
   "metadata": {},
   "outputs": [
    {
     "name": "stdout",
     "output_type": "stream",
     "text": [
      "Training and testing split was successful.\n"
     ]
    }
   ],
   "source": [
    "# TODO: Import 'train_test_split'\n",
    "from sklearn.cross_validation import train_test_split\n",
    "\n",
    "# TODO: Shuffle and split the data into training and testing subsets\n",
    "X_train, X_test, y_train, y_test = train_test_split(features, prices, test_size=0.2, random_state=42)\n",
    "\n",
    "# Success\n",
    "print(\"Training and testing split was successful.\")\n"
   ]
  },
  {
   "cell_type": "markdown",
   "metadata": {},
   "source": [
    "### Question 3 - Training and Testing\n",
    "\n",
    "* What is the benefit to splitting a dataset into some ratio of training and testing subsets for a learning algorithm?"
   ]
  },
  {
   "cell_type": "markdown",
   "metadata": {},
   "source": [
    "**Answer: **It has great benefit of spliting the data in some ratio of training and testing subsets for a learning algorithm.\n",
    "\n",
    "            If we use same training data for testing  purpose as well.Then, learning algorithm \n",
    "            will make predict 100%  accurate but at the same time,if new data is given for \n",
    "            making prediction.It is highly chance that it will make completely wrong prediction.\n",
    "            So, it is good to split dataset into some ratio of training and testing set.and use \n",
    "            testing set for the purpose of testing the algorithm which is not used at time of \n",
    "            training the learning algorithm."
   ]
  },
  {
   "cell_type": "markdown",
   "metadata": {},
   "source": [
    "----\n",
    "\n",
    "## Analyzing Model Performance\n",
    "In this third section of the project, you'll take a look at several models' learning and testing performances on various subsets of training data. Additionally, you'll investigate one particular algorithm with an increasing `'max_depth'` parameter on the full training set to observe how model complexity affects performance. Graphing your model's performance based on varying criteria can be beneficial in the analysis process, such as visualizing behavior that may not have been apparent from the results alone."
   ]
  },
  {
   "cell_type": "markdown",
   "metadata": {},
   "source": [
    "### Learning Curves\n",
    "The following code cell produces four graphs for a decision tree model with different maximum depths. Each graph visualizes the learning curves of the model for both training and testing as the size of the training set is increased. Note that the shaded region of a learning curve denotes the uncertainty of that curve (measured as the standard deviation). The model is scored on both the training and testing sets using R<sup>2</sup>, the coefficient of determination.  \n",
    "\n",
    "Run the code cell below and use these graphs to answer the following question."
   ]
  },
  {
   "cell_type": "code",
   "execution_count": 26,
   "metadata": {
    "scrolled": false
   },
   "outputs": [
    {
     "data": {
      "image/png": "[encoded data removed]",
      "text/plain": [
       "<matplotlib.figure.Figure at 0x20425119390>"
      ]
     },
     "metadata": {},
     "output_type": "display_data"
    }
   ],
   "source": [
    "# Produce learning curves for varying training set sizes and maximum depths\n",
    "vs.ModelLearning(features, prices)"
   ]
  },
  {
   "cell_type": "markdown",
   "metadata": {},
   "source": [
    "### Question 4 - Learning the Data\n",
    "* Choose one of the graphs above and state the maximum depth for the model. \n",
    "* What happens to the score of the training curve as more training points are added? What about the testing curve? \n",
    "* Would having more training points benefit the model? "
   ]
  },
  {
   "cell_type": "markdown",
   "metadata": {},
   "source": [
    "**Answer: **\n",
    "             I  will prefer to choose max_depth = 3.It represents the ideal scenario among four grapgh for a descision three                 model.  \n",
    "            \n",
    "           Initially,As the number of Training points increases upto 200.The Training score \n",
    "           decreases gradually and then,further addition of Training points till it reaches\n",
    "           upto approximately 330.The Training score decreases slowly and it gets almost \n",
    "           saturated after that.\n",
    "            \n",
    "           Initially,The Testing score increases sharply till Training points reach upto \n",
    "           nearly 50.Then,Testing Score score doesn't increases fast that  much upto \n",
    "           approximately 300.and further,it gets almost saturated.\n",
    "            \n",
    "           It may be that Training points(100-200) benifit the model very well but Training\n",
    "           Score and Testing score already become saturate.So,Further Increament in Training \n",
    "           points may only increase the Time Complexity and reduce the efficiency of algorithm."
   ]
  },
  {
   "cell_type": "markdown",
   "metadata": {},
   "source": [
    "### Complexity Curves\n",
    "The following code cell produces a graph for a decision tree model that has been trained and validated on the training data using different maximum depths. The graph produces two complexity curves — one for training and one for validation. Similar to the **learning curves**, the shaded regions of both the complexity curves denote the uncertainty in those curves, and the model is scored on both the training and validation sets using the `performance_metric` function.  \n",
    "\n",
    "** Run the code cell below and use this graph to answer the following two questions Q5 and Q6. **"
   ]
  },
  {
   "cell_type": "code",
   "execution_count": 27,
   "metadata": {},
   "outputs": [
    {
     "data": {
      "image/png": "[encoded data removed]",
      "text/plain": [
       "<matplotlib.figure.Figure at 0x20423f05b00>"
      ]
     },
     "metadata": {},
     "output_type": "display_data"
    }
   ],
   "source": [
    "vs.ModelComplexity(X_train, y_train)"
   ]
  },
  {
   "cell_type": "markdown",
   "metadata": {},
   "source": [
    "### Question 5 - Bias-Variance Tradeoff\n",
    "* When the model is trained with a maximum depth of 1, does the model suffer from high bias or from high variance? \n",
    "* How about when the model is trained with a maximum depth of 10? What visual cues in the graph justify your conclusions?\n"
   ]
  },
  {
   "cell_type": "markdown",
   "metadata": {},
   "source": [
    "**Answer: ** \n",
    "            \n",
    "            1.The model will suffer from high bias(underfitting) when it trained with a\n",
    "              maximum depth of 1.\n",
    "            2.The model will suffer from high variance(overfitting) when it is trained \n",
    "              with a maximum depth of 10.\n",
    "     \n",
    "     \n",
    "3.I can make conclusions based on the visual cues of  consistent change in  validation score on different Training score.\n",
    "It can be seen that the low gap of training and validation curves at max-depth of 1 and the large gap between the \n",
    "training and validation curves at a max-depth of 10.\n",
    "\n",
    "Generally,a model is suffer from high bias(underfitting) when a simple model is  created.It may be due to use of less number\n",
    "of training data points or less nunmber of features.This model's coefficient of determination(R^2) is very low.A model is \n",
    "suffer from high variance(overfitting) when a complex model is created.It may be due to use of large number of training data\n",
    "points or large number of features.This model's coefficient of determination(R^2) is very high.\n",
    "\n",
    "\n"
   ]
  },
  {
   "cell_type": "markdown",
   "metadata": {},
   "source": [
    "### Question 6 - Best-Guess Optimal Model\n",
    "* Which maximum depth do you think results in a model that best generalizes to unseen data? \n",
    "* What intuition lead you to this answer?\n",
    "\n",
    " Look at the graph above Question 5 and see where the validation scores lie for the various depths that have been assigned to the model. Does it get better with increased depth? At what point do we get our best validation score without overcomplicating our model? And remember, Occams Razor states \"Among competing hypotheses, the one with the fewest assumptions should be selected.\""
   ]
  },
  {
   "cell_type": "markdown",
   "metadata": {},
   "source": [
    "**Answer: **\n",
    "\n",
    "            I think that maximum depth of 3  in a model that best generalizes to unseen\n",
    "            data.if we consider range then, it should be between 2.5 to 4.\n",
    "            \n",
    "            At this maximum depth,Training score is approximately 0.8 which isn't too much\n",
    "            high which is a sign of high variance(overfitting) and too much low which is sign \n",
    "            of high bias underfitting.Validation score is also good and it is about 0.7.It \n",
    "            means that low gap between Training score and Validation score.So,it leads to \n",
    "            assume that at maximum depth of 3,depended variable will well predicted by learning \n",
    "            algorithm.           "
   ]
  },
  {
   "cell_type": "markdown",
   "metadata": {},
   "source": [
    "-----\n",
    "\n",
    "## Evaluating Model Performance\n",
    "In this final section of the project, you will construct a model and make a prediction on the client's feature set using an optimized model from `fit_model`."
   ]
  },
  {
   "cell_type": "markdown",
   "metadata": {},
   "source": [
    "### Question 7 - Grid Search\n",
    "* What is the grid search technique?\n",
    "* How it can be applied to optimize a learning algorithm?"
   ]
  },
  {
   "cell_type": "markdown",
   "metadata": {},
   "source": [
    "**Answer: ** There are two type of parameter in machine learning.\n",
    "\n",
    "           1.paramters that are learned from the training data, for example, the weights\n",
    "             in linear regression.\n",
    "           2.Learning algorithm has some parameter that are optimized separately.These \n",
    "             the basically tuning parameters.it is also called hyperparameters of a model.\n",
    "             for example, the regularization parameter in logistic regression or the depth \n",
    "             parameter of a decision tree.\n",
    "               \n",
    "               \n",
    "           Grid search is a powerful tunning parameter optimization technique that can  help \n",
    "           to improve the performance of a model by finding the optimal combination of \n",
    "           hyperparameter values.\n",
    "               \n",
    "           It is a search paradigm where we specify some values for different tunning parameter\n",
    "           and it makes various different combination of those paramter and check the model \n",
    "           performance to obtain the optimal set.\n",
    "             \n",
    "             \n",
    "            -->Exhaustive Grid Search\n",
    "                      The grid search is sometimes done by GridSearchCV in which it implements \n",
    "                      the usual estimator API: when \"fitting\" it on a dataset all possible \n",
    "                      combination of parameter is created, thenall combination get evaluated \n",
    "                      and the best combination is kept.It is possible that GridSearchCV may be \n",
    "                      computationally expensive sometime for larger dataset.  \n",
    "                         \n",
    "                         \n",
    "            -->Randomized Parameter Optimization\n",
    "                      There is another technique which is used in alternative of GridSearchCV \n",
    "                      is RandomizedSearchCV in which a fixed number of parameter settings is \n",
    "                      sampled from the specified distribution.\n",
    "                          \n",
    "            There are mainly two benfits of it over Exhaustive Grid Search:\n",
    "                   1.A computation budget can be chosen independently without any concern \n",
    "                     about number of parameters and possible values. \n",
    "                   2.Parameters that do not change the performance will not decrease the \n",
    "                     efficiency. \n",
    "            "
   ]
  },
  {
   "cell_type": "markdown",
   "metadata": {},
   "source": [
    "### Question 8 - Cross-Validation\n",
    "\n",
    "* What is the k-fold cross-validation training technique? \n",
    "* What benefit does this technique provide for grid search when optimizing a model?"
   ]
  },
  {
   "cell_type": "markdown",
   "metadata": {},
   "source": [
    "**Answer: ** \n",
    "\n",
    "            In k-fold cross-validation technique,the original sample is  divided randomly\n",
    "            into k equal size subsamples in which k-1 subsamples is used as training dataset \n",
    "            and one subsample is kept as validation dataset for model.This technique is \n",
    "            repeated for k-times(folds) and  each subsample used as validation dataset at\n",
    "            once.Parameter can make adjustment until the  estimator perform optimally.So,\n",
    "            validation is required in this case and we use validation dataset for this\n",
    "            purpose and further,evaluation is done on Test dataset.Then,The average is \n",
    "            calculating for k-result to get a single estimation.\n",
    "\n",
    "\n",
    "            -->The main advantage of k-fold cross-validation technique is that all subsamples\n",
    "               are used for both training and validation.\n",
    "\n",
    "\n",
    "            The work of grid search technique is to perform  making optimal combination of\n",
    "            hyperparamter values to improve the performance of model.If it is not using \n",
    "            k-fold cross-validation technique,then it will result in model being tuned only\n",
    "            to a specific subset of data.This is because without using cross-validation \n",
    "            technique,only using k-fold to create training and testind data points,\n",
    "            won't suffle the data points.This big issue is fixed by cross-validation.\n",
    "\n",
    "          "
   ]
  },
  {
   "cell_type": "markdown",
   "metadata": {},
   "source": [
    "### Implementation: Fitting a Model\n",
    "Your final implementation requires that you bring everything together and train a model using the **decision tree algorithm**. To ensure that you are producing an optimized model, you will train the model using the grid search technique to optimize the `'max_depth'` parameter for the decision tree. The `'max_depth'` parameter can be thought of as how many questions the decision tree algorithm is allowed to ask about the data before making a prediction. Decision trees are part of a class of algorithms called *supervised learning algorithms*.\n",
    "\n",
    "In addition, you will find your implementation is using `ShuffleSplit()` for an alternative form of cross-validation (see the `'cv_sets'` variable). While it is not the K-Fold cross-validation technique you describe in **Question 8**, this type of cross-validation technique is just as useful!. The `ShuffleSplit()` implementation below will create 10 (`'n_splits'`) shuffled sets, and for each shuffle, 20% (`'test_size'`) of the data will be used as the *validation set*. While you're working on your implementation, think about the contrasts and similarities it has to the K-fold cross-validation technique.\n",
    "\n",
    "Please note that ShuffleSplit has different parameters in scikit-learn versions 0.17 and 0.18.\n",
    "For the `fit_model` function in the code cell below, you will need to implement the following:\n",
    "- Use [`DecisionTreeRegressor`](http://scikit-learn.org/stable/modules/generated/sklearn.tree.DecisionTreeRegressor.html) from `sklearn.tree` to create a decision tree regressor object.\n",
    "  - Assign this object to the `'regressor'` variable.\n",
    "- Create a dictionary for `'max_depth'` with the values from 1 to 10, and assign this to the `'params'` variable.\n",
    "- Use [`make_scorer`](http://scikit-learn.org/stable/modules/generated/sklearn.metrics.make_scorer.html) from `sklearn.metrics` to create a scoring function object.\n",
    "  - Pass the `performance_metric` function as a parameter to the object.\n",
    "  - Assign this scoring function to the `'scoring_fnc'` variable.\n",
    "- Use [`GridSearchCV`](http://scikit-learn.org/0.17/modules/generated/sklearn.grid_search.GridSearchCV.html) from `sklearn.grid_search` to create a grid search object.\n",
    "  - Pass the variables `'regressor'`, `'params'`, `'scoring_fnc'`, and `'cv_sets'` as parameters to the object. \n",
    "  - Assign the `GridSearchCV` object to the `'grid'` variable."
   ]
  },
  {
   "cell_type": "code",
   "execution_count": 28,
   "metadata": {
    "collapsed": true
   },
   "outputs": [],
   "source": [
    "# TODO: Import 'make_scorer', 'DecisionTreeRegressor', and 'GridSearchCV'\n",
    "\n",
    "import numpy as np\n",
    "from sklearn.tree import DecisionTreeRegressor\n",
    "from sklearn.metrics import make_scorer \n",
    "from sklearn.grid_search import GridSearchCV\n",
    "\n",
    "def fit_model(X, y):\n",
    "    \"\"\" Performs grid search over the 'max_depth' parameter for a \n",
    "        decision tree regressor trained on the input data [X, y]. \"\"\"\n",
    "    \n",
    "    # Create cross-validation sets from the training data\n",
    "    # sklearn version 0.18: ShuffleSplit(n_splits=10, test_size=0.1, train_size=None, random_state=None)\n",
    "    # sklearn versiin 0.17: ShuffleSplit(n, n_iter=10, test_size=0.1, train_size=None, random_state=None)\n",
    "    cv_sets = ShuffleSplit(X.shape[0], n_iter = 10, test_size = 0.20, random_state = 0)\n",
    "\n",
    "    # TODO: Create a decision tree regressor object\n",
    "    regressor = DecisionTreeRegressor()\n",
    "\n",
    "    # TODO: Create a dictionary for the parameter 'max_depth' with a range from 1 to 10\n",
    "    params = {'max_depth':np.arange(1,11)}\n",
    "\n",
    "    # TODO: Transform 'performance_metric' into a scoring function using 'make_scorer' \n",
    "    scoring_fnc = make_scorer(performance_metric)\n",
    "\n",
    "    # TODO: Create the grid search cv object --> GridSearchCV()\n",
    "    # Make sure to include the right parameters in the object:\n",
    "    # (estimator, param_grid, scoring, cv) which have values 'regressor', 'params', 'scoring_fnc', and 'cv_sets' respectively.\n",
    "    grid =  GridSearchCV(regressor, param_grid=params, scoring=scoring_fnc, cv=cv_sets)\n",
    "\n",
    "    # Fit the grid search object to the data to compute the optimal model\n",
    "    grid = grid.fit(X, y)\n",
    "\n",
    "    # Return the optimal model after fitting the data\n",
    "    return grid.best_estimator_"
   ]
  },
  {
   "cell_type": "markdown",
   "metadata": {},
   "source": [
    "### Making Predictions\n",
    "Once a model has been trained on a given set of data, it can now be used to make predictions on new sets of input data. In the case of a *decision tree regressor*, the model has learned *what the best questions to ask about the input data are*, and can respond with a prediction for the **target variable**. You can use these predictions to gain information about data where the value of the target variable is unknown — such as data the model was not trained on."
   ]
  },
  {
   "cell_type": "markdown",
   "metadata": {},
   "source": [
    "### Question 9 - Optimal Model\n",
    "\n",
    "* What maximum depth does the optimal model have? How does this result compare to your guess in **Question 6**?  \n",
    "\n",
    "Run the code block below to fit the decision tree regressor to the training data and produce an optimal model."
   ]
  },
  {
   "cell_type": "code",
   "execution_count": 29,
   "metadata": {
    "scrolled": true
   },
   "outputs": [
    {
     "name": "stdout",
     "output_type": "stream",
     "text": [
      "Parameter 'max_depth' is 4 for the optimal model.\n"
     ]
    }
   ],
   "source": [
    "# Fit the training data to the model using grid search\n",
    "reg = fit_model(X_train, y_train)\n",
    "\n",
    "# Produce the value for 'max_depth'\n",
    "print(\"Parameter 'max_depth' is {} for the optimal model.\".format(reg.get_params()['max_depth']))"
   ]
  },
  {
   "cell_type": "markdown",
   "metadata": {},
   "source": [
    "**Answer: ** \n",
    "            \n",
    "            Maximum depth for optimal model  is 4.\n",
    "            for question no. : 6,\n",
    "                 I made a guess that max depth is 3.If we talk about range then,it should\n",
    "                 be 2.5 to 4.\n",
    "            for question no. : 9,\n",
    "                 maximum depth comes out 4 for optimal model.\n",
    "                 \n",
    "            It doesn't surprises me because training score and validation score for question\n",
    "            no.6 that i considered for prediction of maximum depth for optimal model are about\n",
    "            0.8 and 0.7 respectively.\n",
    "            \n",
    "            \n",
    "            The output for maximum depth in question no. 9 shows that training score is between\n",
    "            0.8 and 0.9, validation score is about 0.7.   \n",
    "            "
   ]
  },
  {
   "cell_type": "markdown",
   "metadata": {},
   "source": [
    "### Question 10 - Predicting Selling Prices\n",
    "Imagine that you were a real estate agent in the Boston area looking to use this model to help price homes owned by your clients that they wish to sell. You have collected the following information from three of your clients:\n",
    "\n",
    "| Feature | Client 1 | Client 2 | Client 3 |\n",
    "| :---: | :---: | :---: | :---: |\n",
    "| Total number of rooms in home | 5 rooms | 4 rooms | 8 rooms |\n",
    "| Neighborhood poverty level (as %) | 17% | 32% | 3% |\n",
    "| Student-teacher ratio of nearby schools | 15-to-1 | 22-to-1 | 12-to-1 |\n",
    "\n",
    "* What price would you recommend each client sell his/her home at? \n",
    "* Do these prices seem reasonable given the values for the respective features? \n",
    "\n",
    "Run the code block below to have your optimized model make predictions for each client's home."
   ]
  },
  {
   "cell_type": "code",
   "execution_count": 31,
   "metadata": {},
   "outputs": [
    {
     "name": "stdout",
     "output_type": "stream",
     "text": [
      "Predicted selling price for Client 1's home: $403,025.00\n",
      "Predicted selling price for Client 2's home: $237,478.72\n",
      "Predicted selling price for Client 3's home: $931,636.36\n"
     ]
    }
   ],
   "source": [
    "# Produce a matrix for client data\n",
    "client_data = [[5, 17, 15], # Client 1\n",
    "               [4, 32, 22], # Client 2\n",
    "               [8, 3, 12]]  # Client 3\n",
    "\n",
    "# Show predictions\n",
    "for i, price in enumerate(reg.predict(client_data)):\n",
    "    print(\"Predicted selling price for Client {}'s home: ${:,.2f}\".format(i+1, price))"
   ]
  },
  {
   "cell_type": "markdown",
   "metadata": {},
   "source": [
    "**Answer: ** \n",
    "\n",
    "            Some statistic about dataset:\n",
    "            Minimum price: $105,000.00\n",
    "            Maximum price: $1,024,800.00\n",
    "            Mean price: $454,342.94\n",
    "            Median price $438,900.00\n",
    "            Standard deviation of prices: $165,340.28\n",
    "\n",
    "\n",
    "          If we compare among only these 3 clients.Then,these prices seems reasonable\n",
    "            because\n",
    "           Client 1: The selling price of home is $403,025 and It is within the one standard \n",
    "                     deviation from mean values($454,342) as well.It's 'LSTAT' and 'PTRATIO' \n",
    "                     values are low compare to Client 2 and high compare to Client 3 and 'RM'\n",
    "                     value is greater than Client 2 and less than Client 3.Therefore,it's \n",
    "                     price must be between Client 2 and Client 3 home's price and So,it is.It's \n",
    "                     market demand will be high compare to Client 2 and low compare to Client 3.\n",
    "                     So,This Selling price seems reasonable for it.\n",
    "                      \n",
    "           Client 2: The selling price of home is $237,478.72.It's 'LSTAT' and 'PTRATIO' value\n",
    "                     is  high compare to  Client 2 and Client 3 and 'RM' value is  less than \n",
    "                     Client 2 and Client 3.Therefore, it's price must be below Client 1 and \n",
    "                     Client 3 home's price and it is.The market demand for this home will be\n",
    "                     low because of high 'LSTAT' and 'PTRATIO' values. It's predicting price\n",
    "                     also reflect it very well.\n",
    "                      \n",
    "                      \n",
    "           Client 3: The selling price of home is $931,636.It's 'LSTAT' and 'PTRATIO' value is\n",
    "                     low compare to Client 2 and Client 3 and 'RM' value is greater than Client\n",
    "                     2 and Client 3. The  market demand for this home will be very high because \n",
    "                     of very low 'LSTAT' and 'PTRATIO' values.So,it's price is very high and it \n",
    "                     is near to maximum value.\n",
    "                      \n",
    "                      \n",
    "            They get selling price for their home truely on the basis of 'RM','LSTAT' and \n",
    "            'PTRATIO' values.          \n",
    "                      "
   ]
  },
  {
   "cell_type": "markdown",
   "metadata": {},
   "source": [
    "### Sensitivity\n",
    "An optimal model is not necessarily a robust model. Sometimes, a model is either too complex or too simple to sufficiently generalize to new data. Sometimes, a model could use a learning algorithm that is not appropriate for the structure of the data given. Other times, the data itself could be too noisy or contain too few samples to allow a model to adequately capture the target variable — i.e., the model is underfitted. \n",
    "\n",
    "**Run the code cell below to run the `fit_model` function ten times with different training and testing sets to see how the prediction for a specific client changes with respect to the data it's trained on.**"
   ]
  },
  {
   "cell_type": "code",
   "execution_count": 32,
   "metadata": {},
   "outputs": [
    {
     "name": "stdout",
     "output_type": "stream",
     "text": [
      "Trial 1: $391,183.33\n",
      "Trial 2: $419,700.00\n",
      "Trial 3: $415,800.00\n",
      "Trial 4: $420,622.22\n",
      "Trial 5: $418,377.27\n",
      "Trial 6: $411,931.58\n",
      "Trial 7: $399,663.16\n",
      "Trial 8: $407,232.00\n",
      "Trial 9: $351,577.61\n",
      "Trial 10: $413,700.00\n",
      "\n",
      "Range in prices: $69,044.61\n"
     ]
    }
   ],
   "source": [
    "vs.PredictTrials(features, prices, fit_model, client_data)"
   ]
  },
  {
   "cell_type": "markdown",
   "metadata": {},
   "source": [
    "### Question 11 - Applicability\n",
    "\n",
    "* In a few sentences, discuss whether the constructed model should or should not be used in a real-world setting.  \n"
   ]
  },
  {
   "cell_type": "markdown",
   "metadata": {},
   "source": [
    "**Answer: **\n",
    "\n",
    "               The data that was collected from 1978 isn't relevant today because  today's \n",
    "              economy is far different from 1970's. The inflation is very high now-a-days \n",
    "              compare to that period.The features that is present in dataset makes the \n",
    "              simple model for predicting the house price.In general case, we can use such\n",
    "              dataset for generating a model but these features isn't sufficient for genuine\n",
    "              purpose. The quality of appliances in the home, square feet of the plot area,\n",
    "              presence of pool etc features highly regulates the price of homeas well. This\n",
    "              model isn't even robust enough to make consistent predictions.This model isn't\n",
    "              well generalized.It provides range of price of home as running it multiple times\n",
    "              for particular client.So,This model shouldn't be used in real-world setting.\n",
    "             \n",
    "         In my opinion,\n",
    "             -->  The data collected in urban city wouldn't be applicable for home's price \n",
    "                  prediction in a rural city.In todays  world,Everyone wants to live in high\n",
    "                  society and with well known person as well and many things. So, people \n",
    "                  increases the demand of house of urban society's home.So,pricing too go high\n",
    "                  for that home.\n",
    "            "
   ]
  }
 ],
 "metadata": {
  "anaconda-cloud": {},
  "kernelspec": {
   "display_name": "Python 3",
   "language": "python",
   "name": "python3"
  },
  "language_info": {
   "codemirror_mode": {
    "name": "ipython",
    "version": 3
   },
   "file_extension": ".py",
   "mimetype": "text/x-python",
   "name": "python",
   "nbconvert_exporter": "python",
   "pygments_lexer": "ipython3",
   "version": "3.6.1"
  }
 },
 "nbformat": 4,
 "nbformat_minor": 1
}
